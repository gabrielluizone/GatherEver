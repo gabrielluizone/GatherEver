{
 "cells": [
  {
   "cell_type": "markdown",
   "metadata": {},
   "source": [
    "### **Gather Anything**\n",
    "> **[``30-07-2025``]()** $\\rightarrow$ **[``31-07-2025``]()**"
   ]
  },
  {
   "cell_type": "code",
   "execution_count": 1,
   "metadata": {},
   "outputs": [],
   "source": [
    "from G1_GatherAnything import EdgeMonitoringCollector"
   ]
  },
  {
   "cell_type": "code",
   "execution_count": null,
   "metadata": {},
   "outputs": [
    {
     "name": "stdout",
     "output_type": "stream",
     "text": [
      "https://1d3126a57d1f.ngrok-free.app\n"
     ]
    }
   ],
   "source": [
    "collector = EdgeMonitoringCollector(\n",
    "    empresa_id=\"CONT2025\",\n",
    "    empresa_nome=\"Container Vision AI\",\n",
    "    coletor_id=\"CONT001\", \n",
    "    coletor_nome=\"Container Monitor\", \n",
    "    coletor_descricao=\"Sistema de monitoramento de contêineres\",\n",
    "    modelo=\"yoloe-11s-seg-pf.pt\",\n",
    "    # camera_source='192.168.1.138',\n",
    "    camera_source=0,\n",
    "    confidence_threshold=0.5,\n",
    "    slat=-23.960833,\n",
    "    slon=-46.333889,\n",
    "    capture_interval=5*60,  # 5 minutes in seconds\n",
    "    server_key='1d3126a57d1f',\n",
    "    seeklist=['containers', 'shippings containers'],\n",
    "    seekkey='identificar_conteineres',\n",
    "    retry_interval=18000  # 30 minutes\n",
    ")\n",
    "print(collector.SERVER_URL)"
   ]
  },
  {
   "cell_type": "code",
   "execution_count": 4,
   "metadata": {},
   "outputs": [],
   "source": [
    "result = collector.test_with_image('Datasets/conteiners/image copy.png')"
   ]
  },
  {
   "cell_type": "code",
   "execution_count": 3,
   "metadata": {},
   "outputs": [],
   "source": [
    "collector.start()"
   ]
  },
  {
   "cell_type": "code",
   "execution_count": 4,
   "metadata": {},
   "outputs": [],
   "source": [
    "collector.stop()"
   ]
  }
 ],
 "metadata": {
  "kernelspec": {
   "display_name": ".venv",
   "language": "python",
   "name": "python3"
  },
  "language_info": {
   "codemirror_mode": {
    "name": "ipython",
    "version": 3
   },
   "file_extension": ".py",
   "mimetype": "text/x-python",
   "name": "python",
   "nbconvert_exporter": "python",
   "pygments_lexer": "ipython3",
   "version": "3.12.3"
  }
 },
 "nbformat": 4,
 "nbformat_minor": 2
}
